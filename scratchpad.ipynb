{
 "cells": [
  {
   "cell_type": "code",
   "execution_count": 8,
   "metadata": {},
   "outputs": [],
   "source": [
    "# STAGE ROUTER CONFIG\n",
    "from ontology2 import ontology\n",
    "\n",
    "ontology['function']['inference'].append({\n",
    "    'name': 'stage_router',\n",
    "    'description': 'This task determines the next stage in a workflow based on the current context and predefined stages.',\n",
    "    'input': {\n",
    "        'type': 'object',\n",
    "        'properties': {\n",
    "            'current_context': {\n",
    "                'type': 'string',\n",
    "                'description': 'Current context of the workflow, including any necessary data to decide the next stage.'\n",
    "            },\n",
    "            'workflow_definition': {\n",
    "                'type': 'object',\n",
    "                'description': 'Definition of the workflow including all stages and their configurations.'\n",
    "                },\n",
    "            'stage_choices': {\n",
    "                'type': 'array',\n",
    "                'items': {'type': 'object'},\n",
    "                'description': 'List of stage names to choose from based on the current stage and its routing logic.'\n",
    "            }\n",
    "        },\n",
    "        'required': ['current_context', 'workflow_definition', 'stage_choices']\n",
    "    },\n",
    "    'output': {\n",
    "        'type': 'object',\n",
    "        'properties': {\n",
    "            'next_stage': {\n",
    "                'type': 'string',\n",
    "                'description': 'Name of the best stage to transition to next based on current context.',\n",
    "                'enum': []  # This will be dynamically populated with the stage choices.\n",
    "            }\n",
    "        },\n",
    "        'required': ['next_stage']\n",
    "    },\n",
    "    'dynamic_structured_outputs': {\n",
    "        'referential': [],\n",
    "        'input': [\n",
    "            {\n",
    "                'output_enum_path': 'properties.next_stage',\n",
    "                'ontology_path': 'properties.stage_choices',\n",
    "                'fetch_attributes': ['name', 'description'],\n",
    "                'filter_attributes': {\n",
    "                    'stage_choices': []  # This will be dynamically populated with the available stage choices.\n",
    "                }\n",
    "            }\n",
    "        ]\n",
    "    },\n",
    "    'prompt': {\n",
    "        'system': {\n",
    "            'value': 'You are an AI assistant that helps users determine the next stage in a workflow based on the current context and predefined stages.'\n",
    "        },\n",
    "        'context': {\n",
    "            'value': 'Analyze the current context and the workflow definition to determine the next stage in the workflow. Consider the criteria defined for each stage and ensure that the next stage meets the conditions specified.\\nCurrent Context: {current_context}\\nWorkflow Definition: {workflow_definition}',\n",
    "            'attributes': ['current_context', 'workflow_definition']\n",
    "        },\n",
    "        'cognition': {\n",
    "            'value': 'Analyze the current context to determine which stage in the workflow should be selected next. Evaluate the criteria for each stage based on the current context and select the appropriate stage from the stage choices provided. Each of the stages of a workflow are completed linearly from the first index of the stages array to the last, but through your recommended stage you can choose a different next step to start from, which will then continue to process linearly. Think step by step about the order of completion given the current context of the workflow, explain the pros and cons of choosing specific stages, and be critical about any dependencies which may exist in the workflow. Then, recommend a specific stage which should be chosen to go to next.',\n",
    "        },\n",
    "        'instructions': {\n",
    "            'value': 'Using the provided current context, workflow definition, and stage choices, determine the next stage in the workflow. Ensure that the selected stage meets the criteria defined and is appropriate based on the current context.',\n",
    "        }\n",
    "    }\n",
    "})\n"
   ]
  },
  {
   "cell_type": "code",
   "execution_count": 17,
   "metadata": {},
   "outputs": [],
   "source": []
  },
  {
   "cell_type": "code",
   "execution_count": 18,
   "metadata": {},
   "outputs": [
    {
     "name": "stdout",
     "output_type": "stream",
     "text": [
      "[{'name': 'security_finding_investigation', 'description': {'description': 'This task involves investigating security findings. The task aims to recommend context-specific actions for security professionals in different contexts.'}, 'input': {'type': 'object', 'properties': {'original_security_findings': {'type': 'string', 'description': 'The raw security findings data.'}, 'original_context': {'type': 'string', 'description': 'Additional, optional context from existing playbooks and historical data.'}}, 'required': ['original_security_findings', 'original_context']}, 'output': {'type': 'object', 'properties': {'actions_context': {'type': 'array', 'description': 'A list of any recommended actions from the list which is recommended for producing a high-quality investigation based on context so far.', 'items': {'type': 'object', 'properties': {'action': {'type': 'string', 'description': 'The recommended action to take.', 'enum': []}, 'context': {'type': 'string', 'description': 'Additional context for the recommended action.'}}, 'required': ['action', 'context']}}}, 'required': ['actions_context']}, 'dynamic_structured_outputs': {'referential': [{'output_enum_path': 'properties.actions_context.items.properties.action', 'ontology_path': 'function.action', 'fetch_attributes': ['description'], 'filter_attributes': {'type': ['Enrichment', 'Investigate', 'Status', 'Configure', 'Deploy'], 'impact': [0, 1, 2], 'service': ['graph_db']}}], 'input': []}, 'prompt': {'system': {'value': 'You are an AI assistant that helps users investigate security findings. Your task is to analyze the findings and recommend context-specific actions.'}, 'context': {'value': 'The use case taxonomy has been provided. Your task is to generate a detailed investigation plan based on the following inputs.\\nSecurity Findings: {original_security_findings}\\nContext: {original_context}.', 'attributes': ['original_security_findings', 'original_context']}, 'cognition': {'value': 'Analyze the provided security findings and context to generate a comprehensive investigation plan. This includes defining the recommended actions, context value/attributes, instructions value/attributes, output schema, and output type. Extract the necessary information from the security findings to create the actions. Determine the input schema required for the task. Define the context in which the task will be performed, followed by specific instructions for executing the task. Identify the type of output expected and define the corresponding output schema. Finally, create the system prompt that sets the context for the LLM.', 'attributes': []}, 'instructions': {'value': 'Using the provided security findings and context, generate a list of any recommended actions to take from the set of functions provided.', 'attributes': []}}}, {'name': 'security_finding_recursive_investigation', 'description': {'description': 'This task involves recursive investigation of security findings by examining new alert IDs correlated with the original entity. It aims to provide context-specific actions for security analysts by iterating through alerts and integrating additional context.', 'instructions': 'The task will take security findings, alert IDs, and additional context, and generate a set of recommended actions for each alert. It will determine if the investigation should continue or proceed to the next stage.'}, 'input': {'type': 'object', 'properties': {'original_security_findings': {'type': 'string', 'description': 'The raw security findings data.'}, 'original_context': {'type': 'array', 'items': {'type': 'string', 'description': 'A single piece of context which enriches, serves as triage or investigation steps, or may be empty. A typical object may have a JSON schema, as an example - but is accepted as a string.'}, 'description': 'An array of context logs related to the original security findings.'}, 'actions_context': {'type': 'array', 'description': 'Recommended automations with context-specific details.', 'items': {'type': 'object', 'properties': {'alert_id': {'type': 'string', 'description': 'The alert ID paired with this context'}, 'context': {'type': 'string', 'description': 'Additional context from the alert, which will align with findings typically seen as part of investigations or triage - typically as a security finding format with contextual fields.'}}, 'description': 'A list of all actions taken with resulting context-specific details.'}}}, 'required': ['original_security_findings', 'original_context', 'actions_context']}, 'output': {'type': 'object', 'properties': {'actions': {'type': 'array', 'description': 'All recommended actions to take based on current context from the investigation so far.', 'items': {'type': 'object', 'properties': {'action': {'type': 'string', 'description': 'The recommended action to take.', 'enum': []}, 'context': {'type': 'string', 'description': \"Additional context explaining the 'why' for the recommended action.\"}}, 'required': ['action', 'context']}}}, 'required': ['actions']}, 'dynamic_structured_outputs': {'referential': [{'output_enum_path': 'properties.actions.items.properties.action', 'ontology_path': 'function.action', 'fetch_attributes': ['description'], 'filter_attributes': {'type': ['Enrichment', 'Investigate', 'Status', 'Notify', 'Engage', 'Task', 'Schedule'], 'impact': [0, 1, 2], 'service': ['graph_db']}}], 'input': []}, 'prompt': {'system': {'value': 'You are an AI assistant that helps users investigate security findings by examining new alert IDs correlated with the original entity. Your task is to analyze the findings, gather additional context, and recommend context-specific actions. Do not recommend actions you have already taken, as seen in the provided additional context.'}, 'context': {'value': 'The use case taxonomy has been provided. Your task is to generate a detailed investigation plan based on the following inputs.\\nSecurity Findings: {original_security_findings}\\nContext: {original_context}. From your investigation, you have identified this additional context: {actions_context} which describes any actions taken so far, the context/reason why you performed the action, as well as the result.', 'attributes': ['original_security_findings', 'original_context', 'actions_context']}, 'cognition': {'value': 'Analyze the provided security findings, alert IDs, and additional context to generate a comprehensive investigation plan. This includes defining the recommended actions, context value/attributes, instructions value/attributes, output schema, and output type. Extract the necessary information from the security findings and alert IDs to create the actions.', 'attributes': []}, 'instructions': {'value': 'Using the provided security findings, alert IDs, and additional context, generate a list of any recommended actions to take from the set of functions provided. If the length of actions returned is 0, then it is assumed that no additional investigation action should be taken and we should move to the next step, automations. Do not repeat the same action, it is better to return zero actions than to return a repeated action.', 'attributes': []}}}, {'name': 'security_finding_disposition', 'description': {'description': 'This task involves determining the disposition of security findings and recommending a ranked set of automation actions based on security findings, context, and recommended actions. It aims to classify the incident and generate a prioritized list of automations to execute.'}, 'input': {'type': 'object', 'properties': {'original_security_findings': {'type': 'string', 'description': 'The raw security findings data.'}, 'original_context': {'type': 'array', 'items': {'type': 'string', 'description': 'A single piece of context which enriches, serves as triage or investigation steps, or may be empty. A typical object may have a JSON schema, as an example - but is accepted as a string.'}, 'description': 'An array of context logs related to the original security findings.'}, 'actions_context': {'type': 'array', 'description': 'Recommended automations with context-specific details.', 'items': {'type': 'object', 'properties': {'action': {'type': 'string', 'description': 'The recommended actions taken.'}, 'context': {'type': 'string', 'description': 'Any additional context for the recommended action taken.'}}, 'description': 'A list of all actions taken with resulting context-specific details.'}}}, 'required': ['original_security_findings', 'original_context', 'actions_context']}, 'output': {'type': 'object', 'properties': {'disposition': {'type': 'string', 'description': 'Based on all of the context provided, this is the disposition of the alert.', 'enum': ['True Positive', 'Benign', 'False Positive']}, 'message': {'type': 'string', 'description': 'This is a concise message to the user persona which summarizes all of the important details from the investigation conducted and any automation actions taken - it should be conversational.'}, 'report': {'type': 'string', 'description': 'Provide a detailed write-up on the steps of this investigation.'}, 'recommended_action': {'type': 'string', 'description': 'The recommended action to take based on the context.'}}, 'required': ['disposition', 'message', 'report', 'recommended_action']}, 'dynamic_structured_outputs': {'referential': [{'output_enum_path': 'properties.recommended_action', 'ontology_path': 'function.action', 'fetch_attributes': ['description'], 'filter_attributes': {'type': ['Enrichment', 'Investigate', 'Status', 'Notify', 'Engage', 'Task', 'Schedule', 'Configure'], 'service': ['Okta', 'Teams', 'Slack', 'Jira']}}], 'input': []}, 'prompt': {'system': {'value': 'You are an AI assistant that helps users determine the disposition of security findings and recommend ranked automation actions based on security findings, context, and recommended actions. Your task is to analyze the inputs, classify the incident, and generate a prioritized list of automations to execute.'}, 'context': {'value': 'The use case taxonomy has been provided. Your task is to generate a detailed automation plan based on the following inputs.\\nSecurity Findings: {original_security_findings}\\nContext: {original_context}. These are all of the actions and context generated so far: {actions_context}', 'attributes': ['original_security_findings', 'original_context', 'actions_context']}, 'cognition': {'value': 'Analyze the provided security findings, context, alert IDs, and actions context to generate a comprehensive automation plan. This includes defining the recommended automations, context value/attributes, instructions value/attributes, output schema, and output type. Extract the necessary information from the inputs to create the automations. Determine the input schema required for the task. Define the context in which the task will be performed, followed by specific instructions for executing the task. Identify the type of output expected and define the corresponding output schema. Finally, create the system prompt that sets the context for the LLM.', 'attributes': []}, 'instructions': {'value': 'Using the provided security findings, context, alert IDs, and actions context, classify the incident as True Positive, Benign, or False Positive. Generate a concise message summarizing the key details and actions taken. Provide a detailed report on the investigation steps, reasoning, and any recommendations. Additionally, generate a ranked list of recommended automation actions based on priority from the set of functions provided. If the alert is classified as a False Positive, the only recommendation should be to suppress the alert.', 'attributes': []}}}, {'name': 'select_next_workflow_stage', 'description': 'This task determines the next stage in a workflow based on the current context and predefined stages.', 'input': {'type': 'object', 'properties': {'current_context': {'type': 'object', 'description': 'Current context of the workflow, including any necessary data to decide the next stage.'}, 'workflow_definition': {'type': 'object', 'description': 'Definition of the workflow including all stages and their configurations.', 'properties': {'description': {'type': 'string', 'description': 'Description of the workflow.'}, 'input': {'type': 'array', 'items': {'type': 'object', 'properties': {'name': {'type': 'string', 'description': 'Name of the input argument.'}, 'description': {'type': 'string', 'description': 'Description of the input argument.'}, 'type': {'type': 'string', 'description': 'Data type of the input argument.'}}, 'required': ['name', 'description', 'type']}}, 'stages': {'type': 'array', 'items': {'type': 'object', 'properties': {'name': {'type': 'string', 'description': 'Name of the stage.'}, 'stage_router': {'type': 'object', 'properties': {'loopback_condition': {'type': 'boolean', 'description': 'Determines if the stage should loop back based on conditions.'}, 'max_runs': {'type': 'integer', 'description': 'Specifies the maximum number of iterations for looping back.'}, 'loopback_stages': {'type': 'array', 'items': {'type': 'integer'}, 'description': 'List of stage indices to which this stage can loop back.'}}, 'description': 'Routing logic for the stage, defining conditions and limits for iterative processing.'}, 'description': {'type': 'string', 'description': 'Description of the stage.'}, 'output': {'type': 'object', 'description': 'JSON schema for the output of the stage.'}}, 'required': ['name', 'stage_router', 'description', 'output']}}, 'output': {'type': 'str', 'properties': {'template': {'type': 'string', 'description': 'Template which outputs a formatted string containing values from attributes.'}, 'attributes': {'type': 'array', 'items': {'type': 'string'}, 'description': 'List of attributes used in the output template.'}}, 'required': ['template', 'attributes']}}, 'required': ['description', 'input', 'stages', 'output']}, 'stage_choices': {'type': 'array', 'items': {'type': 'string'}, 'description': 'List of stage names to choose from based on the current stage and its routing logic.'}}, 'required': ['current_context', 'workflow_definition', 'stage_choices']}, 'output': {'type': 'object', 'properties': {'next_stage': {'type': 'string', 'description': 'Name of the best stage to transition to next based on current context.', 'enum': []}}, 'required': ['next_stage']}, 'dynamic_structured_outputs': {'referential': [], 'input': [{'output_enum_path': 'properties.next_stage', 'ontology_path': 'properties.stage_choices', 'fetch_attributes': ['name', 'description'], 'filter_attributes': {'stage_choices': []}}]}, 'prompt': {'system': {'value': 'You are an AI assistant that helps users determine the next stage in a workflow based on the current context and predefined stages.'}, 'context': {'value': 'Analyze the current context and the workflow definition to determine the next stage in the workflow. Consider the criteria defined for each stage and ensure that the next stage meets the conditions specified.\\nCurrent Context: {current_context}\\nWorkflow Definition: {workflow_definition}\\nStage Choices: {stage_choices}', 'attributes': ['current_context', 'workflow_definition', 'stage_choices']}, 'cognition': {'value': 'Analyze the current context to determine which stage in the workflow should be selected next. Evaluate the criteria for each stage based on the current context and select the appropriate stage from the stage choices provided. Each of the stages of a workflow are completed linearly from the first index of the stages array to the last, but through your recommended stage you can choose a different next step to start from, which will then continue to process linearly. Think step by step about the order of completion given the current context of the workflow, explain the pros and cons of choosing specific stages, and be critical about any dependencies which may exist in the workflow. Then, recommend a specific stage which should be chosen to go to next.', 'attributes': []}, 'instructions': {'value': 'Using the provided current context, workflow definition, and stage choices, determine the next stage in the workflow. Ensure that the selected stage meets the criteria defined and is appropriate based on the current context.', 'attributes': []}}}, {'name': 'select_next_workflow_stage', 'description': 'This task determines the next stage in a workflow based on the current context and predefined stages.', 'input': {'type': 'object', 'properties': {'current_context': {'type': 'object', 'description': 'Current context of the workflow, including any necessary data to decide the next stage.'}, 'workflow_definition': {'type': 'object', 'description': 'Definition of the workflow including all stages and their configurations.'}, 'stage_choices': {'type': 'array', 'items': {'type': 'object'}, 'description': 'List of stage names to choose from based on the current stage and its routing logic.'}}, 'required': ['current_context', 'workflow_definition', 'stage_choices']}, 'output': {'type': 'object', 'properties': {'next_stage': {'type': 'string', 'description': 'Name of the best stage to transition to next based on current context.', 'enum': []}}, 'required': ['next_stage']}, 'dynamic_structured_outputs': {'referential': [], 'input': [{'output_enum_path': 'properties.next_stage', 'ontology_path': 'properties.stage_choices', 'fetch_attributes': ['name', 'description'], 'filter_attributes': {'stage_choices': []}}]}, 'prompt': {'system': {'value': 'You are an AI assistant that helps users determine the next stage in a workflow based on the current context and predefined stages.'}, 'context': {'value': 'Analyze the current context and the workflow definition to determine the next stage in the workflow. Consider the criteria defined for each stage and ensure that the next stage meets the conditions specified.\\nCurrent Context: {current_context}\\nWorkflow Definition: {workflow_definition}', 'attributes': ['current_context', 'workflow_definition']}, 'cognition': {'value': 'Analyze the current context to determine which stage in the workflow should be selected next. Evaluate the criteria for each stage based on the current context and select the appropriate stage from the stage choices provided. Each of the stages of a workflow are completed linearly from the first index of the stages array to the last, but through your recommended stage you can choose a different next step to start from, which will then continue to process linearly. Think step by step about the order of completion given the current context of the workflow, explain the pros and cons of choosing specific stages, and be critical about any dependencies which may exist in the workflow. Then, recommend a specific stage which should be chosen to go to next.'}, 'instructions': {'value': 'Using the provided current context, workflow definition, and stage choices, determine the next stage in the workflow. Ensure that the selected stage meets the criteria defined and is appropriate based on the current context.'}}}]\n"
     ]
    }
   ],
   "source": [
    "print(ontology['function']['inference'])"
   ]
  },
  {
   "cell_type": "code",
   "execution_count": 19,
   "metadata": {},
   "outputs": [
    {
     "data": {
      "text/plain": [
       "{'input': <function input(prompt='', /)>,\n",
       " 'stages': [{'name': 'security_finding_investigation', 'stage_router': {}},\n",
       "  {'name': 'security_finding_recursive_investigation',\n",
       "   'stage_router': {'loopback_condition': True,\n",
       "    'max_runs': 3,\n",
       "    'loopback_stages': [1]}},\n",
       "  {'name': 'security_finding_disposition', 'stage_router': {}}],\n",
       " 'output': {'template': 'For this security finding, this was the concluded disposition: {disposition}\\nThis is the message to the user: {message}\\n\\nThese are the recommended next steps: \\n{recommended_action}\\nThis is the final incident report: {report}',\n",
       "  'attributes': ['disposition', 'message', 'recommended_action', 'report']}}"
      ]
     },
     "execution_count": 19,
     "metadata": {},
     "output_type": "execute_result"
    }
   ],
   "source": [
    "ontology['workflows'][WORKFLOW_NAME]"
   ]
  },
  {
   "cell_type": "code",
   "execution_count": 34,
   "metadata": {},
   "outputs": [
    {
     "name": "stdout",
     "output_type": "stream",
     "text": [
      "Stage choices\n",
      " [{'name': 'security_finding_recursive_investigation', 'description': {'description': 'This task involves recursive investigation of security findings by examining new alert IDs correlated with the original entity. It aims to provide context-specific actions for security analysts by iterating through alerts and integrating additional context.', 'instructions': 'The task will take security findings, alert IDs, and additional context, and generate a set of recommended actions for each alert. It will determine if the investigation should continue or proceed to the next stage.'}}]\n",
      "Workflow Definition\n",
      " {'name': 'security_finding_investigation', 'description': '', 'input': <built-in function input>, 'stages': [{'name': 'security_finding_investigation', 'input': {'type': 'object', 'properties': {'original_security_findings': {'type': 'string', 'description': 'The raw security findings data.'}, 'original_context': {'type': 'string', 'description': 'Additional, optional context from existing playbooks and historical data.'}}, 'required': ['original_security_findings', 'original_context']}, 'output': {'type': 'object', 'properties': {'actions_context': {'type': 'array', 'description': 'A list of any recommended actions from the list which is recommended for producing a high-quality investigation based on context so far.', 'items': {'type': 'object', 'properties': {'action': {'type': 'string', 'description': 'The recommended action to take.', 'enum': []}, 'context': {'type': 'string', 'description': 'Additional context for the recommended action.'}}, 'required': ['action', 'context']}}}, 'required': ['actions_context']}, 'description': {'description': 'This task involves investigating security findings. The task aims to recommend context-specific actions for security professionals in different contexts.'}}], 'output': {'template': 'For this security finding, this was the concluded disposition: {disposition}\\nThis is the message to the user: {message}\\n\\nThese are the recommended next steps: \\n{recommended_action}\\nThis is the final incident report: {report}', 'attributes': ['disposition', 'message', 'recommended_action', 'report']}}\n",
      "Workflow Definition\n",
      " {'name': 'security_finding_investigation', 'description': '', 'input': <built-in function input>, 'stages': [{'name': 'security_finding_investigation', 'input': {'type': 'object', 'properties': {'original_security_findings': {'type': 'string', 'description': 'The raw security findings data.'}, 'original_context': {'type': 'string', 'description': 'Additional, optional context from existing playbooks and historical data.'}}, 'required': ['original_security_findings', 'original_context']}, 'output': {'type': 'object', 'properties': {'actions_context': {'type': 'array', 'description': 'A list of any recommended actions from the list which is recommended for producing a high-quality investigation based on context so far.', 'items': {'type': 'object', 'properties': {'action': {'type': 'string', 'description': 'The recommended action to take.', 'enum': []}, 'context': {'type': 'string', 'description': 'Additional context for the recommended action.'}}, 'required': ['action', 'context']}}}, 'required': ['actions_context']}, 'description': {'description': 'This task involves investigating security findings. The task aims to recommend context-specific actions for security professionals in different contexts.'}}, {'name': 'security_finding_recursive_investigation', 'input': {'type': 'object', 'properties': {'original_security_findings': {'type': 'string', 'description': 'The raw security findings data.'}, 'original_context': {'type': 'array', 'items': {'type': 'string', 'description': 'A single piece of context which enriches, serves as triage or investigation steps, or may be empty. A typical object may have a JSON schema, as an example - but is accepted as a string.'}, 'description': 'An array of context logs related to the original security findings.'}, 'actions_context': {'type': 'array', 'description': 'Recommended automations with context-specific details.', 'items': {'type': 'object', 'properties': {'alert_id': {'type': 'string', 'description': 'The alert ID paired with this context'}, 'context': {'type': 'string', 'description': 'Additional context from the alert, which will align with findings typically seen as part of investigations or triage - typically as a security finding format with contextual fields.'}}, 'description': 'A list of all actions taken with resulting context-specific details.'}}}, 'required': ['original_security_findings', 'original_context', 'actions_context']}, 'output': {'type': 'object', 'properties': {'actions': {'type': 'array', 'description': 'All recommended actions to take based on current context from the investigation so far.', 'items': {'type': 'object', 'properties': {'action': {'type': 'string', 'description': 'The recommended action to take.', 'enum': []}, 'context': {'type': 'string', 'description': \"Additional context explaining the 'why' for the recommended action.\"}}, 'required': ['action', 'context']}}}, 'required': ['actions']}, 'description': {'description': 'This task involves recursive investigation of security findings by examining new alert IDs correlated with the original entity. It aims to provide context-specific actions for security analysts by iterating through alerts and integrating additional context.', 'instructions': 'The task will take security findings, alert IDs, and additional context, and generate a set of recommended actions for each alert. It will determine if the investigation should continue or proceed to the next stage.'}}], 'output': {'template': 'For this security finding, this was the concluded disposition: {disposition}\\nThis is the message to the user: {message}\\n\\nThese are the recommended next steps: \\n{recommended_action}\\nThis is the final incident report: {report}', 'attributes': ['disposition', 'message', 'recommended_action', 'report']}}\n",
      "Workflow Definition\n",
      " {'name': 'security_finding_investigation', 'description': '', 'input': <built-in function input>, 'stages': [{'name': 'security_finding_investigation', 'input': {'type': 'object', 'properties': {'original_security_findings': {'type': 'string', 'description': 'The raw security findings data.'}, 'original_context': {'type': 'string', 'description': 'Additional, optional context from existing playbooks and historical data.'}}, 'required': ['original_security_findings', 'original_context']}, 'output': {'type': 'object', 'properties': {'actions_context': {'type': 'array', 'description': 'A list of any recommended actions from the list which is recommended for producing a high-quality investigation based on context so far.', 'items': {'type': 'object', 'properties': {'action': {'type': 'string', 'description': 'The recommended action to take.', 'enum': []}, 'context': {'type': 'string', 'description': 'Additional context for the recommended action.'}}, 'required': ['action', 'context']}}}, 'required': ['actions_context']}, 'description': {'description': 'This task involves investigating security findings. The task aims to recommend context-specific actions for security professionals in different contexts.'}}, {'name': 'security_finding_recursive_investigation', 'input': {'type': 'object', 'properties': {'original_security_findings': {'type': 'string', 'description': 'The raw security findings data.'}, 'original_context': {'type': 'array', 'items': {'type': 'string', 'description': 'A single piece of context which enriches, serves as triage or investigation steps, or may be empty. A typical object may have a JSON schema, as an example - but is accepted as a string.'}, 'description': 'An array of context logs related to the original security findings.'}, 'actions_context': {'type': 'array', 'description': 'Recommended automations with context-specific details.', 'items': {'type': 'object', 'properties': {'alert_id': {'type': 'string', 'description': 'The alert ID paired with this context'}, 'context': {'type': 'string', 'description': 'Additional context from the alert, which will align with findings typically seen as part of investigations or triage - typically as a security finding format with contextual fields.'}}, 'description': 'A list of all actions taken with resulting context-specific details.'}}}, 'required': ['original_security_findings', 'original_context', 'actions_context']}, 'output': {'type': 'object', 'properties': {'actions': {'type': 'array', 'description': 'All recommended actions to take based on current context from the investigation so far.', 'items': {'type': 'object', 'properties': {'action': {'type': 'string', 'description': 'The recommended action to take.', 'enum': []}, 'context': {'type': 'string', 'description': \"Additional context explaining the 'why' for the recommended action.\"}}, 'required': ['action', 'context']}}}, 'required': ['actions']}, 'description': {'description': 'This task involves recursive investigation of security findings by examining new alert IDs correlated with the original entity. It aims to provide context-specific actions for security analysts by iterating through alerts and integrating additional context.', 'instructions': 'The task will take security findings, alert IDs, and additional context, and generate a set of recommended actions for each alert. It will determine if the investigation should continue or proceed to the next stage.'}}, {'name': 'security_finding_disposition', 'input': {'type': 'object', 'properties': {'original_security_findings': {'type': 'string', 'description': 'The raw security findings data.'}, 'original_context': {'type': 'array', 'items': {'type': 'string', 'description': 'A single piece of context which enriches, serves as triage or investigation steps, or may be empty. A typical object may have a JSON schema, as an example - but is accepted as a string.'}, 'description': 'An array of context logs related to the original security findings.'}, 'actions_context': {'type': 'array', 'description': 'Recommended automations with context-specific details.', 'items': {'type': 'object', 'properties': {'action': {'type': 'string', 'description': 'The recommended actions taken.'}, 'context': {'type': 'string', 'description': 'Any additional context for the recommended action taken.'}}, 'description': 'A list of all actions taken with resulting context-specific details.'}}}, 'required': ['original_security_findings', 'original_context', 'actions_context']}, 'output': {'type': 'object', 'properties': {'disposition': {'type': 'string', 'description': 'Based on all of the context provided, this is the disposition of the alert.', 'enum': ['True Positive', 'Benign', 'False Positive']}, 'message': {'type': 'string', 'description': 'This is a concise message to the user persona which summarizes all of the important details from the investigation conducted and any automation actions taken - it should be conversational.'}, 'report': {'type': 'string', 'description': 'Provide a detailed write-up on the steps of this investigation.'}, 'recommended_action': {'type': 'string', 'description': 'The recommended action to take based on the context.'}}, 'required': ['disposition', 'message', 'report', 'recommended_action']}, 'description': {'description': 'This task involves determining the disposition of security findings and recommending a ranked set of automation actions based on security findings, context, and recommended actions. It aims to classify the incident and generate a prioritized list of automations to execute.'}}], 'output': {'template': 'For this security finding, this was the concluded disposition: {disposition}\\nThis is the message to the user: {message}\\n\\nThese are the recommended next steps: \\n{recommended_action}\\nThis is the final incident report: {report}', 'attributes': ['disposition', 'message', 'recommended_action', 'report']}}\n",
      "Current Context\n",
      " Step 0:\n",
      "Stage executed: stage name\n",
      "Input to the stage: {}\n",
      "Output from the stage: {}\n",
      "\n",
      "\n"
     ]
    }
   ],
   "source": [
    "WORKFLOW_NAME = 'security_finding_investigation'\n",
    "\n",
    "# IMAGINARY THREAD\n",
    "thread_state = {\n",
    "        \"thread_id\": '0',\n",
    "        \"original_thread_input\": {},\n",
    "        \"previous_stage_index\": None,\n",
    "        \"number_of_completions\": 0,\n",
    "        \"mode\": 'precision',\n",
    "        \"persona_object\": {},\n",
    "        \"next_stage_index\": 0,\n",
    "        \"workflow_name\": WORKFLOW_NAME,\n",
    "        \"thread_history\": [\n",
    "            {\n",
    "            \"stage_name\": 'stage name',\n",
    "            \"stage_input\": {},\n",
    "            \"persona_object\": {},\n",
    "            \"mode\": 'precision',\n",
    "            \"is_exit\": False,\n",
    "            \"stage_output\": {}\n",
    "        }\n",
    "        ],\n",
    "        \"actions_context\": [],\n",
    "        \"is_exit\": False,\n",
    "        \"exit_output\": None,\n",
    "    }\n",
    "\n",
    "DEFAULT_MAX_RUNS = 5\n",
    "\n",
    "# ITERATE THROUGH STAGES\n",
    "number_of_stages = len(ontology['workflows'][WORKFLOW_NAME]['stages'])\n",
    "for stage_index in range(number_of_stages):\n",
    "    # SET STAGE\n",
    "    stage = ontology['workflows'][WORKFLOW_NAME]['stages'][stage_index]\n",
    "\n",
    "    # GET STAGE_ROUTER CONFIGS\n",
    "    loopback_condition = stage['stage_router'].get('loopback_condition',False)\n",
    "    max_runs = stage['stage_router'].get('max_runs', DEFAULT_MAX_RUNS)\n",
    "    loopback_stages = stage['stage_router'].get('loopback_stages', [])\n",
    "\n",
    "    # ADD NEXT STAGE, IF EXISTS\n",
    "    if stage_index != number_of_stages and stage_index not in loopback_stages:\n",
    "        loopback_stages.append(stage_index)\n",
    "\n",
    "    # VERIFY THREAD HAS NOT HAD MORE THAN MAX_RUNS OF THIS STAGE\n",
    "    # COUNT STAGE RUNS\n",
    "    stage_runs = 0\n",
    "    for state in thread_state[\"thread_history\"]:\n",
    "        if stage['name'] == state['stage_name']:\n",
    "            stage_runs += 1\n",
    "\n",
    "    # CHECK TO SEE IF WE SHOULD RUN STAGE ROUTER\n",
    "    if loopback_condition and stage_runs <= max_runs:\n",
    "        \n",
    "        # CREATE STAGE_CHOICES INPUT VARIABLE\n",
    "        stage_choices = []\n",
    "\n",
    "        # FROM ALL ELLIGIBLE LOOPBACK STAGES\n",
    "        for loopback_stage_index in loopback_stages:\n",
    "\n",
    "            # GET THE INFERENCE FUNCTION CONFIG\n",
    "            for inference_function in ontology['function']['inference']:\n",
    "                if inference_function['name'] == ontology['workflows'][WORKFLOW_NAME]['stages'][loopback_stage_index]['name']:\n",
    "\n",
    "                    # ADD TO STAGE_CHOICES NAME/DESCRIPTION VALUES\n",
    "                    stage_choices.append({'name':inference_function['name'], 'description': inference_function['description']})\n",
    "        # print(\"Stage choices\\n\", stage_choices)\n",
    "\n",
    "        # CREATE WORKFLOW_DEFINITION INPUT VARIABLE\n",
    "        workflow_definition = {\n",
    "            'name': WORKFLOW_NAME,\n",
    "            'description': ontology['workflows'][WORKFLOW_NAME].get('description',''),\n",
    "            'input': ontology['workflows'][WORKFLOW_NAME].get('input', ''),\n",
    "            'stages': [],\n",
    "            'output': ontology['workflows'][WORKFLOW_NAME].get('output','')\n",
    "        }\n",
    "\n",
    "        # GET INFERENCE FUNCTION CONFIG FOR EACH STAGE\n",
    "        for config_stage in ontology['workflows'][WORKFLOW_NAME]['stages']:\n",
    "            for inference_function in ontology['function']['inference']:\n",
    "                if inference_function['name'] == config_stage['name']:\n",
    "                    workflow_definition['stages'].append({\n",
    "                        'name': inference_function['name'],\n",
    "                        'input': inference_function['input'],\n",
    "                        'output': inference_function['output'],\n",
    "                        'description': inference_function['description']\n",
    "                        })\n",
    "                    # print(\"Workflow Definition\\n\",workflow_definition)\n",
    "\n",
    "        # CREATE CURRENT_CONTEXT INPUT VARIABLE\n",
    "        current_context = ''\n",
    "\n",
    "        # READ THROUGH ALL OF THREAD, PULLING NAME/INPUT/OUTPUT\n",
    "        for state_index in range(len(thread_state[\"thread_history\"])):\n",
    "            state = thread_state[\"thread_history\"][state_index]\n",
    "            historical_stage_name = state['stage_name']\n",
    "            historical_stage_input = state[\"stage_input\"]\n",
    "            historical_stage_output = state['stage_output']\n",
    "            current_context += f'Step {str(state_index)}:\\nStage executed: {historical_stage_name}\\nInput to the stage: {historical_stage_input}\\nOutput from the stage: {historical_stage_output}\\n\\n'\n",
    "\n",
    "        # print(\"Current Context\\n\",current_context)\n",
    "        \n",
    "        \n",
    "\n",
    "        \n",
    "\n"
   ]
  },
  {
   "cell_type": "code",
   "execution_count": 32,
   "metadata": {},
   "outputs": [
    {
     "name": "stdout",
     "output_type": "stream",
     "text": [
      "{'name': 'security_finding_investigation', 'description': '', 'input': <built-in function input>, 'stages': [{'name': 'security_finding_investigation', 'input': {'type': 'object', 'properties': {'original_security_findings': {'type': 'string', 'description': 'The raw security findings data.'}, 'original_context': {'type': 'string', 'description': 'Additional, optional context from existing playbooks and historical data.'}}, 'required': ['original_security_findings', 'original_context']}, 'output': {'type': 'object', 'properties': {'actions_context': {'type': 'array', 'description': 'A list of any recommended actions from the list which is recommended for producing a high-quality investigation based on context so far.', 'items': {'type': 'object', 'properties': {'action': {'type': 'string', 'description': 'The recommended action to take.', 'enum': []}, 'context': {'type': 'string', 'description': 'Additional context for the recommended action.'}}, 'required': ['action', 'context']}}}, 'required': ['actions_context']}, 'description': {'description': 'This task involves investigating security findings. The task aims to recommend context-specific actions for security professionals in different contexts.'}}, {'name': 'security_finding_recursive_investigation', 'input': {'type': 'object', 'properties': {'original_security_findings': {'type': 'string', 'description': 'The raw security findings data.'}, 'original_context': {'type': 'array', 'items': {'type': 'string', 'description': 'A single piece of context which enriches, serves as triage or investigation steps, or may be empty. A typical object may have a JSON schema, as an example - but is accepted as a string.'}, 'description': 'An array of context logs related to the original security findings.'}, 'actions_context': {'type': 'array', 'description': 'Recommended automations with context-specific details.', 'items': {'type': 'object', 'properties': {'alert_id': {'type': 'string', 'description': 'The alert ID paired with this context'}, 'context': {'type': 'string', 'description': 'Additional context from the alert, which will align with findings typically seen as part of investigations or triage - typically as a security finding format with contextual fields.'}}, 'description': 'A list of all actions taken with resulting context-specific details.'}}}, 'required': ['original_security_findings', 'original_context', 'actions_context']}, 'output': {'type': 'object', 'properties': {'actions': {'type': 'array', 'description': 'All recommended actions to take based on current context from the investigation so far.', 'items': {'type': 'object', 'properties': {'action': {'type': 'string', 'description': 'The recommended action to take.', 'enum': []}, 'context': {'type': 'string', 'description': \"Additional context explaining the 'why' for the recommended action.\"}}, 'required': ['action', 'context']}}}, 'required': ['actions']}, 'description': {'description': 'This task involves recursive investigation of security findings by examining new alert IDs correlated with the original entity. It aims to provide context-specific actions for security analysts by iterating through alerts and integrating additional context.', 'instructions': 'The task will take security findings, alert IDs, and additional context, and generate a set of recommended actions for each alert. It will determine if the investigation should continue or proceed to the next stage.'}}, {'name': 'security_finding_disposition', 'input': {'type': 'object', 'properties': {'original_security_findings': {'type': 'string', 'description': 'The raw security findings data.'}, 'original_context': {'type': 'array', 'items': {'type': 'string', 'description': 'A single piece of context which enriches, serves as triage or investigation steps, or may be empty. A typical object may have a JSON schema, as an example - but is accepted as a string.'}, 'description': 'An array of context logs related to the original security findings.'}, 'actions_context': {'type': 'array', 'description': 'Recommended automations with context-specific details.', 'items': {'type': 'object', 'properties': {'action': {'type': 'string', 'description': 'The recommended actions taken.'}, 'context': {'type': 'string', 'description': 'Any additional context for the recommended action taken.'}}, 'description': 'A list of all actions taken with resulting context-specific details.'}}}, 'required': ['original_security_findings', 'original_context', 'actions_context']}, 'output': {'type': 'object', 'properties': {'disposition': {'type': 'string', 'description': 'Based on all of the context provided, this is the disposition of the alert.', 'enum': ['True Positive', 'Benign', 'False Positive']}, 'message': {'type': 'string', 'description': 'This is a concise message to the user persona which summarizes all of the important details from the investigation conducted and any automation actions taken - it should be conversational.'}, 'report': {'type': 'string', 'description': 'Provide a detailed write-up on the steps of this investigation.'}, 'recommended_action': {'type': 'string', 'description': 'The recommended action to take based on the context.'}}, 'required': ['disposition', 'message', 'report', 'recommended_action']}, 'description': {'description': 'This task involves determining the disposition of security findings and recommending a ranked set of automation actions based on security findings, context, and recommended actions. It aims to classify the incident and generate a prioritized list of automations to execute.'}}], 'output': {'template': 'For this security finding, this was the concluded disposition: {disposition}\\nThis is the message to the user: {message}\\n\\nThese are the recommended next steps: \\n{recommended_action}\\nThis is the final incident report: {report}', 'attributes': ['disposition', 'message', 'recommended_action', 'report']}}\n"
     ]
    }
   ],
   "source": [
    "print(workflow_definition)"
   ]
  },
  {
   "cell_type": "code",
   "execution_count": null,
   "metadata": {},
   "outputs": [],
   "source": []
  }
 ],
 "metadata": {
  "kernelspec": {
   "display_name": "Python 3",
   "language": "python",
   "name": "python3"
  },
  "language_info": {
   "codemirror_mode": {
    "name": "ipython",
    "version": 3
   },
   "file_extension": ".py",
   "mimetype": "text/x-python",
   "name": "python",
   "nbconvert_exporter": "python",
   "pygments_lexer": "ipython3",
   "version": "3.11.6"
  }
 },
 "nbformat": 4,
 "nbformat_minor": 2
}
